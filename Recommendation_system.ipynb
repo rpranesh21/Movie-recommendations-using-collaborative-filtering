{
 "cells": [
  {
   "cell_type": "markdown",
   "metadata": {},
   "source": [
    "# Recommendation system using collaborative filtering"
   ]
  },
  {
   "cell_type": "code",
   "execution_count": 140,
   "metadata": {},
   "outputs": [],
   "source": [
    "#import modules\n",
    "import pandas as pd\n",
    "import numpy as np\n",
    "import matplotlib.pyplot as plt\n",
    "from math import sqrt\n",
    "from scipy.stats.stats import pearsonr\n",
    "import seaborn as sns\n"
   ]
  },
  {
   "cell_type": "code",
   "execution_count": 141,
   "metadata": {},
   "outputs": [],
   "source": [
    "#Define the dictionary\n",
    "movie_user_preferences={'Jill': {'Avenger: Age of Ultron': 7.0,\n",
    " 'Django Unchained': 6.5,\n",
    " 'Gone Girl': 9.0,\n",
    " 'Kill the Messenger': 8.0},\n",
    "'Julia': {'Avenger: Age of Ultron': 10.0,\n",
    " 'Django Unchained': 6.0,\n",
    " 'Gone Girl': 6.5,\n",
    " 'Kill the Messenger': 6.0,\n",
    " 'Zoolander': 6.5},\n",
    "'Max': {'Avenger: Age of Ultron': 7.0,\n",
    " 'Django Unchained': 7.0,\n",
    " 'Gone Girl': 10.0,\n",
    " 'Horrible Bosses 2': 6.0,\n",
    " 'Kill the Messenger': 5.0,\n",
    " 'Zoolander': 10.0},\n",
    "'Robert': {'Avenger: Age of Ultron': 8.0,\n",
    " 'Django Unchained': 7.0,\n",
    " 'Horrible Bosses 2': 5.0,\n",
    " 'Kill the Messenger': 9.0,\n",
    " 'Zoolander': 9.0},\n",
    "'Sam': {'Avenger: Age of Ultron': 10.0,\n",
    " 'Django Unchained': 7.5,\n",
    " 'Gone Girl': 6.0,\n",
    " 'Horrible Bosses 2': 3.0,\n",
    " 'Kill the Messenger': 5.5,\n",
    " 'Zoolander': 7.0},\n",
    "'Toby': {'Avenger: Age of Ultron': 8.5,\n",
    " 'Django Unchained': 9.0,\n",
    " 'Zoolander': 2.0},\n",
    "'William': {'Avenger: Age of Ultron': 6.0,\n",
    " 'Django Unchained': 8.0,\n",
    " 'Gone Girl': 7.0,\n",
    " 'Horrible Bosses 2': 4.0,\n",
    " 'Kill the Messenger': 6.5,\n",
    " 'Zoolander': 4.0}}\n",
    "\n"
   ]
  },
  {
   "cell_type": "markdown",
   "metadata": {},
   "source": [
    "## Recommendations using user based collaborative filtering"
   ]
  },
  {
   "cell_type": "markdown",
   "metadata": {},
   "source": [
    "## Euclidean Distance"
   ]
  },
  {
   "cell_type": "code",
   "execution_count": 142,
   "metadata": {},
   "outputs": [
    {
     "data": {
      "text/html": [
       "<div>\n",
       "<style scoped>\n",
       "    .dataframe tbody tr th:only-of-type {\n",
       "        vertical-align: middle;\n",
       "    }\n",
       "\n",
       "    .dataframe tbody tr th {\n",
       "        vertical-align: top;\n",
       "    }\n",
       "\n",
       "    .dataframe thead th {\n",
       "        text-align: right;\n",
       "    }\n",
       "</style>\n",
       "<table border=\"1\" class=\"dataframe\">\n",
       "  <thead>\n",
       "    <tr style=\"text-align: right;\">\n",
       "      <th></th>\n",
       "      <th>user</th>\n",
       "      <th>django</th>\n",
       "      <th>avenger</th>\n",
       "    </tr>\n",
       "  </thead>\n",
       "  <tbody>\n",
       "    <tr>\n",
       "      <th>0</th>\n",
       "      <td>Jill</td>\n",
       "      <td>6.5</td>\n",
       "      <td>7.0</td>\n",
       "    </tr>\n",
       "    <tr>\n",
       "      <th>1</th>\n",
       "      <td>Julia</td>\n",
       "      <td>6.0</td>\n",
       "      <td>10.0</td>\n",
       "    </tr>\n",
       "    <tr>\n",
       "      <th>2</th>\n",
       "      <td>Max</td>\n",
       "      <td>7.0</td>\n",
       "      <td>7.0</td>\n",
       "    </tr>\n",
       "    <tr>\n",
       "      <th>3</th>\n",
       "      <td>Robert</td>\n",
       "      <td>7.0</td>\n",
       "      <td>8.0</td>\n",
       "    </tr>\n",
       "    <tr>\n",
       "      <th>4</th>\n",
       "      <td>Sam</td>\n",
       "      <td>7.5</td>\n",
       "      <td>10.0</td>\n",
       "    </tr>\n",
       "    <tr>\n",
       "      <th>5</th>\n",
       "      <td>Toby</td>\n",
       "      <td>9.0</td>\n",
       "      <td>8.5</td>\n",
       "    </tr>\n",
       "    <tr>\n",
       "      <th>6</th>\n",
       "      <td>William</td>\n",
       "      <td>8.0</td>\n",
       "      <td>6.0</td>\n",
       "    </tr>\n",
       "  </tbody>\n",
       "</table>\n",
       "</div>"
      ],
      "text/plain": [
       "      user  django  avenger\n",
       "0     Jill     6.5      7.0\n",
       "1    Julia     6.0     10.0\n",
       "2      Max     7.0      7.0\n",
       "3   Robert     7.0      8.0\n",
       "4      Sam     7.5     10.0\n",
       "5     Toby     9.0      8.5\n",
       "6  William     8.0      6.0"
      ]
     },
     "execution_count": 142,
     "metadata": {},
     "output_type": "execute_result"
    }
   ],
   "source": [
    "#Create a dataframe\n",
    "data=[]\n",
    "for i in movie_user_preferences.keys(): \n",
    "    try:\n",
    "        data.append( (i, \n",
    "                     movie_user_preferences[i]['Django Unchained'], \n",
    "                     movie_user_preferences[i]['Avenger: Age of Ultron']) ) \n",
    "    except:\n",
    "        pass\n",
    "    \n",
    "df = pd.DataFrame(data=data, columns=['user','django','avenger'])\n",
    "df"
   ]
  },
  {
   "cell_type": "code",
   "execution_count": 143,
   "metadata": {},
   "outputs": [
    {
     "data": {
      "text/plain": [
       "<matplotlib.axes._subplots.AxesSubplot at 0x27074310ef0>"
      ]
     },
     "execution_count": 143,
     "metadata": {},
     "output_type": "execute_result"
    },
    {
     "data": {
      "image/png": "[encoded data removed]",
      "text/plain": [
       "<Figure size 432x288 with 1 Axes>"
      ]
     },
     "metadata": {
      "needs_background": "light"
     },
     "output_type": "display_data"
    }
   ],
   "source": [
    "#Compare the ratings for movies\n",
    "sns.scatterplot(x='django', y= 'avenger', data=df, hue=df.user)"
   ]
  },
  {
   "cell_type": "code",
   "execution_count": 144,
   "metadata": {},
   "outputs": [
    {
     "data": {
      "text/plain": [
       "2.9154759474226504"
      ]
     },
     "execution_count": 144,
     "metadata": {},
     "output_type": "execute_result"
    }
   ],
   "source": [
    "#Euclidean distance between Jill and Toby\n",
    "sqrt(pow(8.5-7,2)+pow(9.0-6.5,2))"
   ]
  },
  {
   "cell_type": "code",
   "execution_count": 145,
   "metadata": {},
   "outputs": [
    {
     "data": {
      "text/plain": [
       "1.0"
      ]
     },
     "execution_count": 145,
     "metadata": {},
     "output_type": "execute_result"
    }
   ],
   "source": [
    "#Euclidan distance between Jill and Max\n",
    "sqrt(pow(8.0-7.0,2)+pow(7-7,2))"
   ]
  },
  {
   "cell_type": "code",
   "execution_count": 146,
   "metadata": {},
   "outputs": [],
   "source": [
    "#Returns a distance based similarity score\n",
    "def similarity_function(prefs, person1, person2):\n",
    "    sum_of_squares = sum([pow(prefs[person1][item] - prefs[person2][item],2) for item in prefs[person1] if item in prefs[person2]])\n",
    "    return (1/(1+sum_of_squares))"
   ]
  },
  {
   "cell_type": "code",
   "execution_count": 147,
   "metadata": {},
   "outputs": [
    {
     "name": "stdout",
     "output_type": "stream",
     "text": [
      "0.03278688524590164\n"
     ]
    }
   ],
   "source": [
    "#Examine the similarity score\n",
    "print(similarity_function(movie_user_preferences, 'Toby', 'Sam'))"
   ]
  },
  {
   "cell_type": "markdown",
   "metadata": {},
   "source": [
    "## Pearson Correlation"
   ]
  },
  {
   "cell_type": "code",
   "execution_count": 148,
   "metadata": {},
   "outputs": [],
   "source": [
    "#Creating a dataset comparing the scores of users\n",
    "def pearson_data(prefs, person1, person2):\n",
    "    dat=[]\n",
    "    for i in prefs[person1].keys():\n",
    "        if i in prefs[person2].keys():\n",
    "            dat.append( (i, prefs[person1][i], prefs[person2][i]))\n",
    "    dat=pd.DataFrame(data=dat, columns=['movie', person1, person2])\n",
    "    return dat"
   ]
  },
  {
   "cell_type": "code",
   "execution_count": 149,
   "metadata": {},
   "outputs": [
    {
     "data": {
      "text/html": [
       "<div>\n",
       "<style scoped>\n",
       "    .dataframe tbody tr th:only-of-type {\n",
       "        vertical-align: middle;\n",
       "    }\n",
       "\n",
       "    .dataframe tbody tr th {\n",
       "        vertical-align: top;\n",
       "    }\n",
       "\n",
       "    .dataframe thead th {\n",
       "        text-align: right;\n",
       "    }\n",
       "</style>\n",
       "<table border=\"1\" class=\"dataframe\">\n",
       "  <thead>\n",
       "    <tr style=\"text-align: right;\">\n",
       "      <th></th>\n",
       "      <th>movie</th>\n",
       "      <th>Jill</th>\n",
       "      <th>William</th>\n",
       "    </tr>\n",
       "  </thead>\n",
       "  <tbody>\n",
       "    <tr>\n",
       "      <th>0</th>\n",
       "      <td>Avenger: Age of Ultron</td>\n",
       "      <td>7.0</td>\n",
       "      <td>6.0</td>\n",
       "    </tr>\n",
       "    <tr>\n",
       "      <th>1</th>\n",
       "      <td>Django Unchained</td>\n",
       "      <td>6.5</td>\n",
       "      <td>8.0</td>\n",
       "    </tr>\n",
       "    <tr>\n",
       "      <th>2</th>\n",
       "      <td>Gone Girl</td>\n",
       "      <td>9.0</td>\n",
       "      <td>7.0</td>\n",
       "    </tr>\n",
       "    <tr>\n",
       "      <th>3</th>\n",
       "      <td>Kill the Messenger</td>\n",
       "      <td>8.0</td>\n",
       "      <td>6.5</td>\n",
       "    </tr>\n",
       "  </tbody>\n",
       "</table>\n",
       "</div>"
      ],
      "text/plain": [
       "                    movie  Jill  William\n",
       "0  Avenger: Age of Ultron   7.0      6.0\n",
       "1        Django Unchained   6.5      8.0\n",
       "2               Gone Girl   9.0      7.0\n",
       "3      Kill the Messenger   8.0      6.5"
      ]
     },
     "execution_count": 149,
     "metadata": {},
     "output_type": "execute_result"
    }
   ],
   "source": [
    "#Examine the dataset\n",
    "dat = pearson_data(movie_user_preferences, 'Jill','William')\n",
    "dat.head()"
   ]
  },
  {
   "cell_type": "code",
   "execution_count": 150,
   "metadata": {},
   "outputs": [
    {
     "data": {
      "image/png": "[encoded data removed]",
      "text/plain": [
       "<Figure size 432x288 with 1 Axes>"
      ]
     },
     "metadata": {
      "needs_background": "light"
     },
     "output_type": "display_data"
    }
   ],
   "source": [
    "#Scatter plot of the scores\n",
    "plt.scatter(dat.Jill, dat.William)\n",
    "plt.xlabel('Jill')\n",
    "plt.ylabel('William')\n",
    "for i, txt in enumerate(dat.movie):\n",
    "    plt.annotate(txt, (dat['Jill'][i], dat['William'][i]))\n",
    "plt.show()"
   ]
  },
  {
   "cell_type": "code",
   "execution_count": 151,
   "metadata": {},
   "outputs": [
    {
     "data": {
      "text/plain": [
       "(-0.24206536647461385, 0.7579346335253856)"
      ]
     },
     "execution_count": 151,
     "metadata": {},
     "output_type": "execute_result"
    }
   ],
   "source": [
    "#Computing the pearson's score\n",
    "pearsonr(dat.Jill, dat.William)"
   ]
  },
  {
   "cell_type": "markdown",
   "metadata": {},
   "source": [
    "The first value represents the correlation coefficient, here we have a -0.24 which indicates that the two users have a weak negative correlation. The second value is the p-value which represents the probablity that the data would have arisen if the null hypothesis was true ( the null hypothesis being that the data is uncorrelated)"
   ]
  },
  {
   "cell_type": "code",
   "execution_count": 152,
   "metadata": {},
   "outputs": [],
   "source": [
    "#Function that returns the Pearson correlation\n",
    "def pearson_sim(prefs, p1, p2):\n",
    "    si={}\n",
    "    for item in prefs[p1]:\n",
    "        if item in prefs[p2]:\n",
    "            si[item]=1\n",
    "    n=len(si)\n",
    "    \n",
    "    #Add the preferences\n",
    "    sum1 = sum([prefs[p1][it] for it in si])\n",
    "    sum2 = sum([prefs[p2][it] for it in si])\n",
    "    \n",
    "    #sum of squares\n",
    "    sum1sq = sum([pow(prefs[p1][it],2) for it in si])\n",
    "    sum2sq = sum([pow(prefs[p2][it],2) for it in si])\n",
    "    \n",
    "    #sum up the products\n",
    "    psum = sum([prefs[p1][it]*prefs[p2][it] for it in si])\n",
    "    \n",
    "    #Pearson score calculation\n",
    "    num = psum -(sum1*sum2/n)\n",
    "    den =sqrt((sum1sq-pow(sum1,2)/n)*(sum2sq-pow(sum2,2)/n))\n",
    "    if den==0: return 0\n",
    "    r=num/den\n",
    "    return r\n",
    "    "
   ]
  },
  {
   "cell_type": "code",
   "execution_count": 153,
   "metadata": {},
   "outputs": [
    {
     "data": {
      "text/plain": [
       "0.8828518332602507"
      ]
     },
     "execution_count": 153,
     "metadata": {},
     "output_type": "execute_result"
    }
   ],
   "source": [
    "#Computing the pearson's score\n",
    "pearson_sim(movie_user_preferences, 'Sam', 'Julia')"
   ]
  },
  {
   "cell_type": "code",
   "execution_count": 154,
   "metadata": {},
   "outputs": [],
   "source": [
    "#define the pearson correlation score function\n",
    "def pearson_r(prefs, p1, p2):\n",
    "    return pearsonr(prefs[p1], prefs[p2])"
   ]
  },
  {
   "cell_type": "code",
   "execution_count": 155,
   "metadata": {},
   "outputs": [],
   "source": [
    "#define the function to get top matches\n",
    "def top_matches(prefs, person, n=5, similarity =pearson_sim):\n",
    "    score =[(similarity(prefs, person, other), other) for other in prefs if other!=person]\n",
    "    score.sort()\n",
    "    score.reverse()\n",
    "    return score[0:n]"
   ]
  },
  {
   "cell_type": "code",
   "execution_count": 156,
   "metadata": {},
   "outputs": [
    {
     "data": {
      "text/plain": [
       "[(0.10526315789473684, 'Jill'),\n",
       " (0.08163265306122448, 'William'),\n",
       " (0.03278688524590164, 'Sam')]"
      ]
     },
     "execution_count": 156,
     "metadata": {},
     "output_type": "execute_result"
    }
   ],
   "source": [
    "#Examine the output\n",
    "top_matches(movie_user_preferences, 'Toby', n=3,similarity =similarity_function)"
   ]
  },
  {
   "cell_type": "code",
   "execution_count": 157,
   "metadata": {},
   "outputs": [],
   "source": [
    "#Define the final recommendations function\n",
    "def get_recommendations(prefs, person, similarity=pearson_sim):\n",
    "    totals={}\n",
    "    simSums={}\n",
    "    for other in prefs:\n",
    "        if other==person: continue\n",
    "        sim =similarity(prefs, person, other)\n",
    "        if sim<=0: continue\n",
    "        for item in prefs[other]:\n",
    "            if item not in prefs[person] or prefs[person][item]==0:\n",
    "                totals.setdefault(item,0)\n",
    "                totals[item]+=prefs[other][item]*sim\n",
    "                #sum of similarities\n",
    "                simSums.setdefault(item,0)\n",
    "                simSums[item]+=sim\n",
    "    rankings =[(total/simSums[item],item) for item,total in totals.items()]\n",
    "    rankings.sort()\n",
    "    rankings.reverse()\n",
    "    return rankings\n",
    "                \n",
    "                                                 \n",
    "                                                 \n",
    "        "
   ]
  },
  {
   "cell_type": "code",
   "execution_count": 158,
   "metadata": {},
   "outputs": [
    {
     "data": {
      "text/plain": [
       "[(6.587965809121004, 'Gone Girl'),\n",
       " (6.087965809121004, 'Kill the Messenger'),\n",
       " (3.608127720528246, 'Horrible Bosses 2')]"
      ]
     },
     "execution_count": 158,
     "metadata": {},
     "output_type": "execute_result"
    }
   ],
   "source": [
    "#Examine the output\n",
    "get_recommendations(movie_user_preferences, 'Toby')"
   ]
  },
  {
   "cell_type": "markdown",
   "metadata": {},
   "source": [
    "## Recommendations using item-based collaborative filtering"
   ]
  },
  {
   "cell_type": "code",
   "execution_count": 159,
   "metadata": {},
   "outputs": [],
   "source": [
    "#Define the function to transform the orginal dictionary\n",
    "def transform_prefs(prefs):\n",
    "    result ={}\n",
    "    for person in prefs:\n",
    "        for item in prefs[person]:\n",
    "            #if item is not in result then set it to {}( a dictionary)\n",
    "            result.setdefault(item,{})\n",
    "            \n",
    "            #Flip the item and result\n",
    "            result[item][person] = prefs[person][item]\n",
    "    return result"
   ]
  },
  {
   "cell_type": "code",
   "execution_count": 160,
   "metadata": {},
   "outputs": [
    {
     "data": {
      "text/plain": [
       "{'Avenger: Age of Ultron': {'Jill': 7.0,\n",
       "  'Julia': 10.0,\n",
       "  'Max': 7.0,\n",
       "  'Robert': 8.0,\n",
       "  'Sam': 10.0,\n",
       "  'Toby': 8.5,\n",
       "  'William': 6.0},\n",
       " 'Django Unchained': {'Jill': 6.5,\n",
       "  'Julia': 6.0,\n",
       "  'Max': 7.0,\n",
       "  'Robert': 7.0,\n",
       "  'Sam': 7.5,\n",
       "  'Toby': 9.0,\n",
       "  'William': 8.0},\n",
       " 'Gone Girl': {'Jill': 9.0,\n",
       "  'Julia': 6.5,\n",
       "  'Max': 10.0,\n",
       "  'Sam': 6.0,\n",
       "  'William': 7.0},\n",
       " 'Kill the Messenger': {'Jill': 8.0,\n",
       "  'Julia': 6.0,\n",
       "  'Max': 5.0,\n",
       "  'Robert': 9.0,\n",
       "  'Sam': 5.5,\n",
       "  'William': 6.5},\n",
       " 'Zoolander': {'Julia': 6.5,\n",
       "  'Max': 10.0,\n",
       "  'Robert': 9.0,\n",
       "  'Sam': 7.0,\n",
       "  'Toby': 2.0,\n",
       "  'William': 4.0},\n",
       " 'Horrible Bosses 2': {'Max': 6.0, 'Robert': 5.0, 'Sam': 3.0, 'William': 4.0}}"
      ]
     },
     "execution_count": 160,
     "metadata": {},
     "output_type": "execute_result"
    }
   ],
   "source": [
    "#Examine the results\n",
    "transform_prefs(movie_user_preferences)"
   ]
  },
  {
   "cell_type": "code",
   "execution_count": 161,
   "metadata": {},
   "outputs": [],
   "source": [
    "#define the function to calculate similarity score\n",
    "def calculate_similar_items(prefs, n=10):\n",
    "    result={}\n",
    "    itemprefs = transform_prefs(prefs)\n",
    "    c=0\n",
    "    for item in itemprefs:\n",
    "        c+=1\n",
    "        if c%100==0: print(\"%d/%d\" % (c,len(itemprefs)))\n",
    "        scores = top_matches(itemprefs, item, n=n, similarity=similarity_function)\n",
    "        result[item]=scores\n",
    "    return result\n",
    "    "
   ]
  },
  {
   "cell_type": "code",
   "execution_count": 162,
   "metadata": {},
   "outputs": [
    {
     "data": {
      "text/plain": [
       "{'Avenger: Age of Ultron': [(0.034782608695652174, 'Django Unchained'),\n",
       "  (0.023121387283236993, 'Gone Girl'),\n",
       "  (0.022988505747126436, 'Kill the Messenger'),\n",
       "  (0.015625, 'Horrible Bosses 2'),\n",
       "  (0.012738853503184714, 'Zoolander')],\n",
       " 'Django Unchained': [(0.05714285714285714, 'Kill the Messenger'),\n",
       "  (0.05063291139240506, 'Gone Girl'),\n",
       "  (0.034782608695652174, 'Avenger: Age of Ultron'),\n",
       "  (0.023668639053254437, 'Horrible Bosses 2'),\n",
       "  (0.012578616352201259, 'Zoolander')],\n",
       " 'Gone Girl': [(0.09090909090909091, 'Zoolander'),\n",
       "  (0.05063291139240506, 'Django Unchained'),\n",
       "  (0.036036036036036036, 'Kill the Messenger'),\n",
       "  (0.02857142857142857, 'Horrible Bosses 2'),\n",
       "  (0.023121387283236993, 'Avenger: Age of Ultron')],\n",
       " 'Kill the Messenger': [(0.05714285714285714, 'Django Unchained'),\n",
       "  (0.036036036036036036, 'Gone Girl'),\n",
       "  (0.03278688524590164, 'Horrible Bosses 2'),\n",
       "  (0.02877697841726619, 'Zoolander'),\n",
       "  (0.022988505747126436, 'Avenger: Age of Ultron')],\n",
       " 'Zoolander': [(0.09090909090909091, 'Gone Girl'),\n",
       "  (0.02877697841726619, 'Kill the Messenger'),\n",
       "  (0.02040816326530612, 'Horrible Bosses 2'),\n",
       "  (0.012738853503184714, 'Avenger: Age of Ultron'),\n",
       "  (0.012578616352201259, 'Django Unchained')],\n",
       " 'Horrible Bosses 2': [(0.03278688524590164, 'Kill the Messenger'),\n",
       "  (0.02857142857142857, 'Gone Girl'),\n",
       "  (0.023668639053254437, 'Django Unchained'),\n",
       "  (0.02040816326530612, 'Zoolander'),\n",
       "  (0.015625, 'Avenger: Age of Ultron')]}"
      ]
     },
     "execution_count": 162,
     "metadata": {},
     "output_type": "execute_result"
    }
   ],
   "source": [
    "# Examine the output\n",
    "itemsim = calculate_similar_items(movie_user_preferences)\n",
    "itemsim"
   ]
  },
  {
   "cell_type": "code",
   "execution_count": 163,
   "metadata": {},
   "outputs": [],
   "source": [
    "#Define the function to make recommendations\n",
    "def get_item_recommendations(prefs, itemmatch, user):\n",
    "    userratings=prefs[user]\n",
    "    scores={}\n",
    "    totalsim={}\n",
    "\n",
    "    for item, rating in userratings.items():\n",
    "        for similarity, item2 in itemmatch[item]:\n",
    "            if item2 in userratings: continue\n",
    "            \n",
    "            scores.setdefault(item2,0)\n",
    "            scores[item2] += rating*similarity\n",
    "            \n",
    "            totalsim.setdefault(item2,0)\n",
    "            totalsim[item2]+=similarity\n",
    "    \n",
    "    #Divide each score by the totalsim to get the average\n",
    "    \n",
    "    rankings=[(score/totalsim[item], item) for item,score in scores.items()]\n",
    "    \n",
    "    rankings.sort()\n",
    "    rankings.reverse()\n",
    "    return rankings\n",
    "\n",
    "    \n",
    "            \n",
    "    "
   ]
  },
  {
   "cell_type": "code",
   "execution_count": 164,
   "metadata": {},
   "outputs": [
    {
     "data": {
      "text/plain": [
       "[(7.044841200971884, 'Kill the Messenger'),\n",
       " (6.476296577225752, 'Horrible Bosses 2'),\n",
       " (5.0651585538275095, 'Gone Girl')]"
      ]
     },
     "execution_count": 164,
     "metadata": {},
     "output_type": "execute_result"
    }
   ],
   "source": [
    "#Examine the output\n",
    "rankings = get_item_recommendations(movie_user_preferences,itemsim, 'Toby')\n",
    "rankings"
   ]
  }
 ],
 "metadata": {
  "kernelspec": {
   "display_name": "Python 3",
   "language": "python",
   "name": "python3"
  },
  "language_info": {
   "codemirror_mode": {
    "name": "ipython",
    "version": 3
   },
   "file_extension": ".py",
   "mimetype": "text/x-python",
   "name": "python",
   "nbconvert_exporter": "python",
   "pygments_lexer": "ipython3",
   "version": "3.7.1"
  }
 },
 "nbformat": 4,
 "nbformat_minor": 2
}
